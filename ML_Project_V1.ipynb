{
  "nbformat": 4,
  "nbformat_minor": 0,
  "metadata": {
    "colab": {
      "name": "ML Project-V1.ipynb",
      "provenance": [],
      "collapsed_sections": [],
      "machine_shape": "hm",
      "include_colab_link": true
    },
    "kernelspec": {
      "name": "python3",
      "display_name": "Python 3"
    },
    "accelerator": "GPU"
  },
  "cells": [
    {
      "cell_type": "markdown",
      "metadata": {
        "id": "view-in-github",
        "colab_type": "text"
      },
      "source": [
        "<a href=\"https://colab.research.google.com/github/johnberg1/MusicGenrePredictor/blob/master/ML_Project_V1.ipynb\" target=\"_parent\"><img src=\"https://colab.research.google.com/assets/colab-badge.svg\" alt=\"Open In Colab\"/></a>"
      ]
    },
    {
      "cell_type": "code",
      "metadata": {
        "id": "x7kW6mshtAqz",
        "colab_type": "code",
        "outputId": "235ebf5d-d6b3-4df7-9684-ef6d197f79af",
        "colab": {
          "base_uri": "https://localhost:8080/",
          "height": 122
        }
      },
      "source": [
        "#Mounting Google Drive, only needed once\n",
        "from google.colab import drive\n",
        "drive.mount('/content/drive')"
      ],
      "execution_count": 0,
      "outputs": [
        {
          "output_type": "stream",
          "text": [
            "Go to this URL in a browser: https://accounts.google.com/o/oauth2/auth?client_id=947318989803-6bn6qk8qdgf4n4g3pfee6491hc0brc4i.apps.googleusercontent.com&redirect_uri=urn%3aietf%3awg%3aoauth%3a2.0%3aoob&response_type=code&scope=email%20https%3a%2f%2fwww.googleapis.com%2fauth%2fdocs.test%20https%3a%2f%2fwww.googleapis.com%2fauth%2fdrive%20https%3a%2f%2fwww.googleapis.com%2fauth%2fdrive.photos.readonly%20https%3a%2f%2fwww.googleapis.com%2fauth%2fpeopleapi.readonly\n",
            "\n",
            "Enter your authorization code:\n",
            "··········\n",
            "Mounted at /content/drive\n"
          ],
          "name": "stdout"
        }
      ]
    },
    {
      "cell_type": "code",
      "metadata": {
        "id": "EBytvuIrhjBp",
        "colab_type": "code",
        "colab": {}
      },
      "source": [
        "# Helper function for removing unnecessary characters\n",
        "def getgenres(temp):\n",
        "    temp = temp.replace(\"[\",\"\")\n",
        "    temp = temp.replace(\",\",\"\")\n",
        "    temp = temp.replace(\"]\",\"\")\n",
        "    lis = list(map(int,temp.split(\" \")))\n",
        "    arr = np.asarray(lis)\n",
        "    return arr"
      ],
      "execution_count": 0,
      "outputs": []
    },
    {
      "cell_type": "code",
      "metadata": {
        "id": "MCM0Qtm4RHE3",
        "colab_type": "code",
        "colab": {}
      },
      "source": [
        "#Uploading the arrays into local variables, only needed once\n",
        "import pandas as pd\n",
        "import numpy as np\n",
        "\n",
        "df = pd.read_csv('/content/drive/My Drive/ML PROJECT/genresV1.csv')\n",
        "genres = df.to_numpy()   #to convert pandas dataframe to 2d numpy array\n",
        "df = pd.read_csv('/content/drive/My Drive/ML PROJECT/features.csv',header=None )\n",
        "features = df.to_numpy()   #to convert pandas dataframe to 2d numpy array\n",
        "\n",
        "#fixing issue with geners data format\n",
        "temp = []\n",
        "\n",
        "for i in range(np.size(genres,0)):\n",
        "  temp.append(genres[i][0])\n",
        "temp = np.asarray(temp)\n",
        "\n",
        "genres2 = []\n",
        "features2= []\n",
        "\n",
        "c = 0\n",
        "for i in temp:\n",
        "  if( i != '[]' and i != 'nan' and i != 'Jarrod Fowler' and i != ' John Butcher' and (i[0:5] != \"['zal\") ):\n",
        "    genres2.append(getgenres(i))\n",
        "    features2.append( features[c])\n",
        "  c +=1\n",
        "\n",
        "genres2 = np.asarray(genres2)\n",
        "features2 = np.asarray(features2)\n",
        "\n",
        "df = pd.read_csv('/content/drive/My Drive/ML PROJECT/genres.csv')\n",
        "genrelist = df.to_numpy()   #to convert pandas dataframe to 2d numpy array\n",
        "temp1 = np.transpose(genrelist)[0]#all genres\n",
        "temp2 = np.transpose(genrelist)[4] #parent genres, if 0 -> it is already a parent\n",
        "genrelist = np.transpose(np.vstack((temp1,temp2))) #we only need these 2 at this point\n",
        "\n"
      ],
      "execution_count": 0,
      "outputs": []
    },
    {
      "cell_type": "code",
      "metadata": {
        "id": "efkPE7HVkJwl",
        "colab_type": "code",
        "colab": {}
      },
      "source": [
        "genresSingle = []\n",
        "featuresSingle = [] \n",
        "for (i,j) in zip(genres2,features2):\n",
        "  for k in i:\n",
        "    genresSingle.append(k)\n",
        "    featuresSingle.append(j)\n",
        "genresSingle = np.asarray(genresSingle)\n",
        "featuresSingle = np.asarray(featuresSingle)"
      ],
      "execution_count": 0,
      "outputs": []
    },
    {
      "cell_type": "code",
      "metadata": {
        "id": "iF-9CfWHkOUY",
        "colab_type": "code",
        "colab": {}
      },
      "source": [
        "# Maps each genre to their top genres and treats them as separate songs\n",
        "genresSingleTop = []\n",
        "featuresSingleTop = [] \n",
        "for (i,j) in zip(genres2,features2):\n",
        "  for k in i:\n",
        "    t = temp2[np.where(temp1 == k)]\n",
        "    genresSingleTop.append(t[0])\n",
        "    featuresSingleTop.append(j)\n",
        "genresSingleTop = np.asarray(genresSingleTop)\n",
        "featuresSingleTop = np.asarray(featuresSingleTop)"
      ],
      "execution_count": 0,
      "outputs": []
    },
    {
      "cell_type": "code",
      "metadata": {
        "id": "F6o8v1eYyI3w",
        "colab_type": "code",
        "colab": {}
      },
      "source": [
        "genresSingleTop2 = []\n",
        "featuresSingleTop2 = [] \n",
        "for (i,j) in zip(genres2,features2):\n",
        "  xyt = []\n",
        "  for k in i:\n",
        "    t = temp2[np.where(temp1 == k)]\n",
        "    if t[0] not in xyt:\n",
        "      xyt.append(t[0])\n",
        "\n",
        "      genresSingleTop2.append(t[0])\n",
        "      featuresSingleTop2.append(j)\n",
        "genresSingleTop2 = np.asarray(genresSingleTop2)\n",
        "featuresSingleTop2 = np.asarray(featuresSingleTop2)"
      ],
      "execution_count": 0,
      "outputs": []
    },
    {
      "cell_type": "code",
      "metadata": {
        "id": "AaipngK-0rGS",
        "colab_type": "code",
        "outputId": "4f7a0b54-fe82-49ce-91c4-1b5851f02de5",
        "colab": {
          "base_uri": "https://localhost:8080/",
          "height": 119
        }
      },
      "source": [
        "xy = genres2[-3]\n",
        "xyt = []\n",
        "print(xy)\n",
        "for j in xy:\n",
        "  xyz = np.where(temp1 == j)\n",
        "  print(xyz)\n",
        "  xyt.append(temp2[xyz[0][0]])\n",
        "print (type(xyt))\n",
        "print(max(set(xyt), key = xyt.count))"
      ],
      "execution_count": 0,
      "outputs": [
        {
          "output_type": "stream",
          "text": [
            "[12 32 66]\n",
            "(array([11]),)\n",
            "(array([27]),)\n",
            "(array([44]),)\n",
            "<class 'list'>\n",
            "12\n"
          ],
          "name": "stdout"
        }
      ]
    },
    {
      "cell_type": "code",
      "metadata": {
        "id": "quifmQlM5hiJ",
        "colab_type": "code",
        "colab": {}
      },
      "source": [
        "#fatbardh\n",
        "from operator import itemgetter\n",
        "\n",
        "countGenres = np.zeros(1236)\n",
        "for i in range(81553):\n",
        "  for j in genres2[i]:\n",
        "    countGenres[j] += 1\n",
        "\n",
        "graphData = []\n",
        "for i in range(1236):\n",
        "  if(countGenres[i] != 0.0):\n",
        "    graphData.append( [i , int(countGenres[i])])\n",
        "\n",
        "a = sorted(graphData, key=lambda x: x[1], reverse=True)\n",
        "print(len( graphData))\n",
        "for i in range(15):\n",
        "  print(a[i])"
      ],
      "execution_count": 0,
      "outputs": []
    },
    {
      "cell_type": "code",
      "metadata": {
        "id": "-Oxvtu3B2kLW",
        "colab_type": "code",
        "colab": {}
      },
      "source": [
        "print(genres2)"
      ],
      "execution_count": 0,
      "outputs": []
    },
    {
      "cell_type": "code",
      "metadata": {
        "id": "k8bZzndJ0c6q",
        "colab_type": "code",
        "colab": {}
      },
      "source": [
        "genresSingleTop = []\n",
        "featuresSingleTop = [] \n",
        "for (i,j) in zip(genres2,features2):\n",
        "    t = temp2[np.where(temp1 == i)]\n",
        "  for k in i:\n",
        "    genresSingleTop.append(t[0])\n",
        "    featuresSingleTop.append(j)\n",
        "genresSingleTop = np.asarray(genresSingleTop)\n",
        "featuresSingleTop = np.asarray(featuresSingleTop)"
      ],
      "execution_count": 0,
      "outputs": []
    },
    {
      "cell_type": "code",
      "metadata": {
        "id": "MJ5GJe_wuVQX",
        "colab_type": "code",
        "outputId": "ca8f1d6b-12be-4ca1-9ff5-a1abeaa8e6ed",
        "colab": {
          "base_uri": "https://localhost:8080/",
          "height": 187
        }
      },
      "source": [
        "#Sanity check for sizes. The last to should be (191292,518) and (191292,)\n",
        "print(\"Geners.shape\")\n",
        "print( genres2.shape)\n",
        "print(\"Features List shape.\")\n",
        "print(features2.shape)\n",
        "print(\"GenreList Shape\")\n",
        "print( genrelist.shape)\n",
        "\n",
        "\n",
        "print(\"Feature Matrix Shape:\")\n",
        "print(featuresSingleTop.shape)\n",
        "print(\"Genres Vector Shape:\")\n",
        "print(genresSingleTop.shape)"
      ],
      "execution_count": 0,
      "outputs": [
        {
          "output_type": "stream",
          "text": [
            "Geners.shape\n",
            "(81553,)\n",
            "Features List shape.\n",
            "(81553, 518)\n",
            "GenreList Shape\n",
            "(163, 2)\n",
            "Feature Matrix Shape:\n",
            "(191292, 518)\n",
            "Genres Vector Shape:\n",
            "(191292,)\n"
          ],
          "name": "stdout"
        }
      ]
    },
    {
      "cell_type": "code",
      "metadata": {
        "id": "Afw2_KVfeYs9",
        "colab_type": "code",
        "outputId": "112beeff-40bc-4855-f5f2-2e12905207ba",
        "colab": {
          "base_uri": "https://localhost:8080/",
          "height": 1000
        }
      },
      "source": [
        "##### ANN PART #####\n",
        "from sklearn.model_selection import train_test_split\n",
        "from sklearn.preprocessing import LabelEncoder,StandardScaler\n",
        "import keras\n",
        "\n",
        "import warnings\n",
        "warnings.filterwarnings('ignore')\n",
        "\n",
        "from keras import models\n",
        "from keras import layers\n",
        "\n",
        "# Get the features and genres after processing\n",
        "featuresTrial = featuresSingleTop\n",
        "genresTrial = genresSingleTop\n",
        "\n",
        "# Encoding each label so they have values from 1 to 16\n",
        "encoder = LabelEncoder()\n",
        "y = encoder.fit_transform(genresTrial)\n",
        "\n",
        "# Standardizing the data\n",
        "scaler = StandardScaler()\n",
        "X = scaler.fit_transform(np.array(featuresTrial, dtype = float))\n",
        "\n",
        "# 0.8 training 0.2 test data\n",
        "X_train, X_test, y_train, y_test = train_test_split(X, y, test_size=0.2)\n",
        "\n",
        "# Defining model parameters\n",
        "model = models.Sequential()\n",
        "model.add(layers.Dense(512, activation='relu', input_shape=(X_train.shape[1],)))\n",
        "\n",
        "model.add(layers.Dense(256, activation='relu'))\n",
        "\n",
        "model.add(layers.Dense(128, activation='relu'))\n",
        "\n",
        "model.add(layers.Dense(64, activation='relu'))\n",
        "\n",
        "model.add(layers.Dense(32, activation='relu'))\n",
        "\n",
        "model.add(layers.Dense(16, activation='softmax'))\n",
        "\n",
        "# Running and fitting our model\n",
        "model.compile(optimizer='nadam',\n",
        "              loss='sparse_categorical_crossentropy',\n",
        "              metrics=['accuracy'])\n",
        "\n",
        "\n",
        "history = model.fit(X_train,\n",
        "                    y_train,\n",
        "                    epochs=150,\n",
        "                    batch_size=1024)\n",
        "            "
      ],
      "execution_count": 0,
      "outputs": [
        {
          "output_type": "stream",
          "text": [
            "Epoch 1/150\n",
            "153033/153033 [==============================] - 1s 9us/step - loss: 2.1387 - acc: 0.2493\n",
            "Epoch 2/150\n",
            "153033/153033 [==============================] - 1s 7us/step - loss: 2.0784 - acc: 0.2676\n",
            "Epoch 3/150\n",
            "153033/153033 [==============================] - 1s 7us/step - loss: 2.0510 - acc: 0.2819\n",
            "Epoch 4/150\n",
            "153033/153033 [==============================] - 1s 7us/step - loss: 2.0174 - acc: 0.3004\n",
            "Epoch 5/150\n",
            "153033/153033 [==============================] - 1s 7us/step - loss: 1.9762 - acc: 0.3202\n",
            "Epoch 6/150\n",
            "153033/153033 [==============================] - 1s 7us/step - loss: 1.9278 - acc: 0.3424\n",
            "Epoch 7/150\n",
            "153033/153033 [==============================] - 1s 7us/step - loss: 1.8694 - acc: 0.3657\n",
            "Epoch 8/150\n",
            "153033/153033 [==============================] - 1s 7us/step - loss: 1.8112 - acc: 0.3886\n",
            "Epoch 9/150\n",
            "153033/153033 [==============================] - 1s 7us/step - loss: 1.7540 - acc: 0.4103\n",
            "Epoch 10/150\n",
            "153033/153033 [==============================] - 1s 7us/step - loss: 1.6973 - acc: 0.4290\n",
            "Epoch 11/150\n",
            "153033/153033 [==============================] - 1s 7us/step - loss: 1.6405 - acc: 0.4476\n",
            "Epoch 12/150\n",
            "153033/153033 [==============================] - 1s 7us/step - loss: 1.5953 - acc: 0.4615\n",
            "Epoch 13/150\n",
            "153033/153033 [==============================] - 1s 7us/step - loss: 1.5421 - acc: 0.4778\n",
            "Epoch 14/150\n",
            "153033/153033 [==============================] - 1s 7us/step - loss: 1.4978 - acc: 0.4922\n",
            "Epoch 15/150\n",
            "153033/153033 [==============================] - 1s 7us/step - loss: 1.4616 - acc: 0.5000\n",
            "Epoch 16/150\n",
            "153033/153033 [==============================] - 1s 7us/step - loss: 1.4207 - acc: 0.5129\n",
            "Epoch 17/150\n",
            "153033/153033 [==============================] - 1s 7us/step - loss: 1.3895 - acc: 0.5202\n",
            "Epoch 18/150\n",
            "153033/153033 [==============================] - 1s 7us/step - loss: 1.3566 - acc: 0.5281\n",
            "Epoch 19/150\n",
            "153033/153033 [==============================] - 1s 7us/step - loss: 1.3249 - acc: 0.5376\n",
            "Epoch 20/150\n",
            "153033/153033 [==============================] - 1s 7us/step - loss: 1.2991 - acc: 0.5428\n",
            "Epoch 21/150\n",
            "153033/153033 [==============================] - 1s 7us/step - loss: 1.2749 - acc: 0.5485\n",
            "Epoch 22/150\n",
            "153033/153033 [==============================] - 1s 7us/step - loss: 1.2518 - acc: 0.5542\n",
            "Epoch 23/150\n",
            "153033/153033 [==============================] - 1s 7us/step - loss: 1.2323 - acc: 0.5581\n",
            "Epoch 24/150\n",
            "153033/153033 [==============================] - 1s 7us/step - loss: 1.2118 - acc: 0.5632\n",
            "Epoch 25/150\n",
            "153033/153033 [==============================] - 1s 7us/step - loss: 1.1889 - acc: 0.5687\n",
            "Epoch 26/150\n",
            "153033/153033 [==============================] - 1s 7us/step - loss: 1.1728 - acc: 0.5728\n",
            "Epoch 27/150\n",
            "153033/153033 [==============================] - 1s 7us/step - loss: 1.1549 - acc: 0.5771\n",
            "Epoch 28/150\n",
            "153033/153033 [==============================] - 1s 8us/step - loss: 1.1404 - acc: 0.5801\n",
            "Epoch 29/150\n",
            "153033/153033 [==============================] - 1s 7us/step - loss: 1.1256 - acc: 0.5835\n",
            "Epoch 30/150\n",
            "153033/153033 [==============================] - 1s 7us/step - loss: 1.1094 - acc: 0.5872\n",
            "Epoch 31/150\n",
            "153033/153033 [==============================] - 1s 7us/step - loss: 1.1007 - acc: 0.5884\n",
            "Epoch 32/150\n",
            "153033/153033 [==============================] - 1s 7us/step - loss: 1.0868 - acc: 0.5907\n",
            "Epoch 33/150\n",
            "153033/153033 [==============================] - 1s 7us/step - loss: 1.0744 - acc: 0.5938\n",
            "Epoch 34/150\n",
            "153033/153033 [==============================] - 1s 7us/step - loss: 1.0649 - acc: 0.5971\n",
            "Epoch 35/150\n",
            "153033/153033 [==============================] - 1s 7us/step - loss: 1.0514 - acc: 0.6003\n",
            "Epoch 36/150\n",
            "153033/153033 [==============================] - 1s 7us/step - loss: 1.0431 - acc: 0.6009\n",
            "Epoch 37/150\n",
            "153033/153033 [==============================] - 1s 7us/step - loss: 1.0332 - acc: 0.6035\n",
            "Epoch 38/150\n",
            "153033/153033 [==============================] - 1s 7us/step - loss: 1.0237 - acc: 0.6053\n",
            "Epoch 39/150\n",
            "153033/153033 [==============================] - 1s 7us/step - loss: 1.0182 - acc: 0.6065\n",
            "Epoch 40/150\n",
            "153033/153033 [==============================] - 1s 7us/step - loss: 1.0069 - acc: 0.6079\n",
            "Epoch 41/150\n",
            "153033/153033 [==============================] - 1s 7us/step - loss: 0.9997 - acc: 0.6090\n",
            "Epoch 42/150\n",
            "153033/153033 [==============================] - 1s 7us/step - loss: 0.9911 - acc: 0.6116\n",
            "Epoch 43/150\n",
            "153033/153033 [==============================] - 1s 7us/step - loss: 0.9801 - acc: 0.6144\n",
            "Epoch 44/150\n",
            "153033/153033 [==============================] - 1s 7us/step - loss: 0.9753 - acc: 0.6141\n",
            "Epoch 45/150\n",
            "153033/153033 [==============================] - 1s 7us/step - loss: 0.9697 - acc: 0.6155\n",
            "Epoch 46/150\n",
            "153033/153033 [==============================] - 1s 7us/step - loss: 0.9632 - acc: 0.6181\n",
            "Epoch 47/150\n",
            "153033/153033 [==============================] - 1s 7us/step - loss: 0.9580 - acc: 0.6184\n",
            "Epoch 48/150\n",
            "153033/153033 [==============================] - 1s 7us/step - loss: 0.9512 - acc: 0.6194\n",
            "Epoch 49/150\n",
            "153033/153033 [==============================] - 1s 7us/step - loss: 0.9467 - acc: 0.6211\n",
            "Epoch 50/150\n",
            "153033/153033 [==============================] - 1s 7us/step - loss: 0.9368 - acc: 0.6241\n",
            "Epoch 51/150\n",
            "153033/153033 [==============================] - 1s 7us/step - loss: 0.9372 - acc: 0.6221\n",
            "Epoch 52/150\n",
            "153033/153033 [==============================] - 1s 7us/step - loss: 0.9306 - acc: 0.6238\n",
            "Epoch 53/150\n",
            "153033/153033 [==============================] - 1s 7us/step - loss: 0.9254 - acc: 0.6243\n",
            "Epoch 54/150\n",
            "153033/153033 [==============================] - 1s 7us/step - loss: 0.9208 - acc: 0.6250\n",
            "Epoch 55/150\n",
            "153033/153033 [==============================] - 1s 7us/step - loss: 0.9144 - acc: 0.6279\n",
            "Epoch 56/150\n",
            "153033/153033 [==============================] - 1s 7us/step - loss: 0.9103 - acc: 0.6276\n",
            "Epoch 57/150\n",
            "153033/153033 [==============================] - 1s 7us/step - loss: 0.9074 - acc: 0.6283\n",
            "Epoch 58/150\n",
            "153033/153033 [==============================] - 1s 7us/step - loss: 0.9016 - acc: 0.6302\n",
            "Epoch 59/150\n",
            "153033/153033 [==============================] - 1s 7us/step - loss: 0.8946 - acc: 0.6314\n",
            "Epoch 60/150\n",
            "153033/153033 [==============================] - 1s 7us/step - loss: 0.8957 - acc: 0.6312\n",
            "Epoch 61/150\n",
            "153033/153033 [==============================] - 1s 7us/step - loss: 0.8893 - acc: 0.6321\n",
            "Epoch 62/150\n",
            "153033/153033 [==============================] - 1s 7us/step - loss: 0.8853 - acc: 0.6335\n",
            "Epoch 63/150\n",
            "153033/153033 [==============================] - 1s 7us/step - loss: 0.8822 - acc: 0.6335\n",
            "Epoch 64/150\n",
            "153033/153033 [==============================] - 1s 7us/step - loss: 0.8793 - acc: 0.6338\n",
            "Epoch 65/150\n",
            "153033/153033 [==============================] - 1s 7us/step - loss: 0.8746 - acc: 0.6354\n",
            "Epoch 66/150\n",
            "153033/153033 [==============================] - 1s 7us/step - loss: 0.8729 - acc: 0.6357\n",
            "Epoch 67/150\n",
            "153033/153033 [==============================] - 1s 7us/step - loss: 0.8692 - acc: 0.6348\n",
            "Epoch 68/150\n",
            "153033/153033 [==============================] - 1s 7us/step - loss: 0.8692 - acc: 0.6369\n",
            "Epoch 69/150\n",
            "153033/153033 [==============================] - 1s 7us/step - loss: 0.8595 - acc: 0.6379\n",
            "Epoch 70/150\n",
            "153033/153033 [==============================] - 1s 7us/step - loss: 0.8593 - acc: 0.6386\n",
            "Epoch 71/150\n",
            "153033/153033 [==============================] - 1s 7us/step - loss: 0.8560 - acc: 0.6383\n",
            "Epoch 72/150\n",
            "153033/153033 [==============================] - 1s 7us/step - loss: 0.8550 - acc: 0.6389\n",
            "Epoch 73/150\n",
            "153033/153033 [==============================] - 1s 7us/step - loss: 0.8523 - acc: 0.6389\n",
            "Epoch 74/150\n",
            "153033/153033 [==============================] - 1s 7us/step - loss: 0.8486 - acc: 0.6394\n",
            "Epoch 75/150\n",
            "153033/153033 [==============================] - 1s 7us/step - loss: 0.8482 - acc: 0.6389\n",
            "Epoch 76/150\n",
            "153033/153033 [==============================] - 1s 7us/step - loss: 0.8417 - acc: 0.6402\n",
            "Epoch 77/150\n",
            "153033/153033 [==============================] - 1s 7us/step - loss: 0.8405 - acc: 0.6404\n",
            "Epoch 78/150\n",
            "153033/153033 [==============================] - 1s 7us/step - loss: 0.8376 - acc: 0.6433\n",
            "Epoch 79/150\n",
            "153033/153033 [==============================] - 1s 7us/step - loss: 0.8363 - acc: 0.6419\n",
            "Epoch 80/150\n",
            "153033/153033 [==============================] - 1s 7us/step - loss: 0.8333 - acc: 0.6425\n",
            "Epoch 81/150\n",
            "153033/153033 [==============================] - 1s 7us/step - loss: 0.8318 - acc: 0.6428\n",
            "Epoch 82/150\n",
            "153033/153033 [==============================] - 1s 7us/step - loss: 0.8287 - acc: 0.6437\n",
            "Epoch 83/150\n",
            "153033/153033 [==============================] - 1s 7us/step - loss: 0.8267 - acc: 0.6443\n",
            "Epoch 84/150\n",
            "153033/153033 [==============================] - 1s 7us/step - loss: 0.8235 - acc: 0.6444\n",
            "Epoch 85/150\n",
            "153033/153033 [==============================] - 1s 7us/step - loss: 0.8222 - acc: 0.6443\n",
            "Epoch 86/150\n",
            "153033/153033 [==============================] - 1s 7us/step - loss: 0.8201 - acc: 0.6452\n",
            "Epoch 87/150\n",
            "153033/153033 [==============================] - 1s 7us/step - loss: 0.8188 - acc: 0.6453\n",
            "Epoch 88/150\n",
            "153033/153033 [==============================] - 1s 7us/step - loss: 0.8150 - acc: 0.6457\n",
            "Epoch 89/150\n",
            "153033/153033 [==============================] - 1s 7us/step - loss: 0.8149 - acc: 0.6450\n",
            "Epoch 90/150\n",
            "153033/153033 [==============================] - 1s 7us/step - loss: 0.8124 - acc: 0.6473\n",
            "Epoch 91/150\n",
            "153033/153033 [==============================] - 1s 7us/step - loss: 0.8093 - acc: 0.6475\n",
            "Epoch 92/150\n",
            "153033/153033 [==============================] - 1s 7us/step - loss: 0.8184 - acc: 0.6448\n",
            "Epoch 93/150\n",
            "153033/153033 [==============================] - 1s 7us/step - loss: 0.8077 - acc: 0.6466\n",
            "Epoch 94/150\n",
            "153033/153033 [==============================] - 1s 7us/step - loss: 0.8033 - acc: 0.6484\n",
            "Epoch 95/150\n",
            "153033/153033 [==============================] - 1s 7us/step - loss: 0.7991 - acc: 0.6500\n",
            "Epoch 96/150\n",
            "153033/153033 [==============================] - 1s 7us/step - loss: 0.8012 - acc: 0.6478\n",
            "Epoch 97/150\n",
            "153033/153033 [==============================] - 1s 7us/step - loss: 0.7982 - acc: 0.6499\n",
            "Epoch 98/150\n",
            "153033/153033 [==============================] - 1s 7us/step - loss: 0.7976 - acc: 0.6493\n",
            "Epoch 99/150\n",
            "153033/153033 [==============================] - 1s 7us/step - loss: 0.7973 - acc: 0.6495\n",
            "Epoch 100/150\n",
            "153033/153033 [==============================] - 1s 7us/step - loss: 0.7953 - acc: 0.6498\n",
            "Epoch 101/150\n",
            "153033/153033 [==============================] - 1s 7us/step - loss: 0.7915 - acc: 0.6507\n",
            "Epoch 102/150\n",
            "153033/153033 [==============================] - 1s 7us/step - loss: 0.7899 - acc: 0.6520\n",
            "Epoch 103/150\n",
            "153033/153033 [==============================] - 1s 7us/step - loss: 0.7881 - acc: 0.6519\n",
            "Epoch 104/150\n",
            "153033/153033 [==============================] - 1s 7us/step - loss: 0.7868 - acc: 0.6514\n",
            "Epoch 105/150\n",
            "153033/153033 [==============================] - 1s 7us/step - loss: 0.7855 - acc: 0.6512\n",
            "Epoch 106/150\n",
            "153033/153033 [==============================] - 1s 7us/step - loss: 0.7837 - acc: 0.6519\n",
            "Epoch 107/150\n",
            "153033/153033 [==============================] - 1s 7us/step - loss: 0.7831 - acc: 0.6525\n",
            "Epoch 108/150\n",
            "153033/153033 [==============================] - 1s 7us/step - loss: 0.7826 - acc: 0.6521\n",
            "Epoch 109/150\n",
            "153033/153033 [==============================] - 1s 7us/step - loss: 0.7787 - acc: 0.6524\n",
            "Epoch 110/150\n",
            "153033/153033 [==============================] - 1s 7us/step - loss: 0.7798 - acc: 0.6538\n",
            "Epoch 111/150\n",
            "153033/153033 [==============================] - 1s 7us/step - loss: 0.7777 - acc: 0.6529\n",
            "Epoch 112/150\n",
            "153033/153033 [==============================] - 1s 7us/step - loss: 0.7767 - acc: 0.6522\n",
            "Epoch 113/150\n",
            "153033/153033 [==============================] - 1s 7us/step - loss: 0.7738 - acc: 0.6544\n",
            "Epoch 114/150\n",
            "153033/153033 [==============================] - 1s 7us/step - loss: 0.7745 - acc: 0.6530\n",
            "Epoch 115/150\n",
            "153033/153033 [==============================] - 1s 7us/step - loss: 0.7718 - acc: 0.6529\n",
            "Epoch 116/150\n",
            "153033/153033 [==============================] - 1s 7us/step - loss: 0.7709 - acc: 0.6545\n",
            "Epoch 117/150\n",
            "153033/153033 [==============================] - 1s 7us/step - loss: 0.7696 - acc: 0.6550\n",
            "Epoch 118/150\n",
            "153033/153033 [==============================] - 1s 7us/step - loss: 0.7659 - acc: 0.6558\n",
            "Epoch 119/150\n",
            "153033/153033 [==============================] - 1s 7us/step - loss: 0.7662 - acc: 0.6551\n",
            "Epoch 120/150\n",
            "153033/153033 [==============================] - 1s 7us/step - loss: 0.7665 - acc: 0.6556\n",
            "Epoch 121/150\n",
            "153033/153033 [==============================] - 1s 7us/step - loss: 0.7621 - acc: 0.6570\n",
            "Epoch 122/150\n",
            "153033/153033 [==============================] - 1s 7us/step - loss: 0.7631 - acc: 0.6562\n",
            "Epoch 123/150\n",
            "153033/153033 [==============================] - 1s 7us/step - loss: 0.7618 - acc: 0.6567\n",
            "Epoch 124/150\n",
            "153033/153033 [==============================] - 1s 7us/step - loss: 0.7599 - acc: 0.6563\n",
            "Epoch 125/150\n",
            "153033/153033 [==============================] - 1s 7us/step - loss: 0.7616 - acc: 0.6560\n",
            "Epoch 126/150\n",
            "153033/153033 [==============================] - 1s 7us/step - loss: 0.7584 - acc: 0.6561\n",
            "Epoch 127/150\n",
            "153033/153033 [==============================] - 1s 7us/step - loss: 0.7580 - acc: 0.6572\n",
            "Epoch 128/150\n",
            "153033/153033 [==============================] - 1s 7us/step - loss: 0.7546 - acc: 0.6573\n",
            "Epoch 129/150\n",
            "153033/153033 [==============================] - 1s 7us/step - loss: 0.7537 - acc: 0.6575\n",
            "Epoch 130/150\n",
            "153033/153033 [==============================] - 1s 7us/step - loss: 0.7521 - acc: 0.6587\n",
            "Epoch 131/150\n",
            "153033/153033 [==============================] - 1s 7us/step - loss: 0.7512 - acc: 0.6577\n",
            "Epoch 132/150\n",
            "153033/153033 [==============================] - 1s 7us/step - loss: 0.7531 - acc: 0.6579\n",
            "Epoch 133/150\n",
            "153033/153033 [==============================] - 1s 8us/step - loss: 0.7488 - acc: 0.6582\n",
            "Epoch 134/150\n",
            "153033/153033 [==============================] - 1s 7us/step - loss: 0.7503 - acc: 0.6575\n",
            "Epoch 135/150\n",
            "153033/153033 [==============================] - 1s 7us/step - loss: 0.7469 - acc: 0.6600\n",
            "Epoch 136/150\n",
            "153033/153033 [==============================] - 1s 7us/step - loss: 0.7453 - acc: 0.6601\n",
            "Epoch 137/150\n",
            "153033/153033 [==============================] - 1s 7us/step - loss: 0.7455 - acc: 0.6576\n",
            "Epoch 138/150\n",
            "153033/153033 [==============================] - 1s 7us/step - loss: 0.7435 - acc: 0.6586\n",
            "Epoch 139/150\n",
            "153033/153033 [==============================] - 1s 7us/step - loss: 0.7423 - acc: 0.6598\n",
            "Epoch 140/150\n",
            "153033/153033 [==============================] - 1s 7us/step - loss: 0.7414 - acc: 0.6595\n",
            "Epoch 141/150\n",
            "153033/153033 [==============================] - 1s 7us/step - loss: 0.7423 - acc: 0.6587\n",
            "Epoch 142/150\n",
            "153033/153033 [==============================] - 1s 7us/step - loss: 0.7387 - acc: 0.6590\n",
            "Epoch 143/150\n",
            "153033/153033 [==============================] - 1s 7us/step - loss: 0.7388 - acc: 0.6587\n",
            "Epoch 144/150\n",
            "153033/153033 [==============================] - 1s 7us/step - loss: 0.7398 - acc: 0.6586\n",
            "Epoch 145/150\n",
            "153033/153033 [==============================] - 1s 7us/step - loss: 0.7361 - acc: 0.6617\n",
            "Epoch 146/150\n",
            "153033/153033 [==============================] - 1s 7us/step - loss: 0.7378 - acc: 0.6599\n",
            "Epoch 147/150\n",
            "153033/153033 [==============================] - 1s 7us/step - loss: 0.7380 - acc: 0.6605\n",
            "Epoch 148/150\n",
            "153033/153033 [==============================] - 1s 7us/step - loss: 0.7348 - acc: 0.6607\n",
            "Epoch 149/150\n",
            "153033/153033 [==============================] - 1s 7us/step - loss: 0.7330 - acc: 0.6595\n",
            "Epoch 150/150\n",
            "153033/153033 [==============================] - 1s 7us/step - loss: 0.7330 - acc: 0.6618\n",
            "top1 acc 0.6974835492998243\n",
            "top3 acc 0.980755784700032\n"
          ],
          "name": "stdout"
        }
      ]
    },
    {
      "cell_type": "code",
      "metadata": {
        "id": "tFRz5_qnO-HY",
        "colab_type": "code",
        "outputId": "19819bf3-0b40-4337-92a3-522d3ba41eb5",
        "colab": {
          "base_uri": "https://localhost:8080/",
          "height": 51
        }
      },
      "source": [
        "# Compute top1 and top3 accuracies\n",
        "top1 = 0.0\n",
        "top3 = 0.0    \n",
        "class_probs = model.predict(X_test)\n",
        "for i, l in enumerate(y_test):\n",
        "    class_prob = class_probs[i]\n",
        "    top_values = (-class_prob).argsort()[:3]\n",
        "    if top_values[0] == l:\n",
        "        top1 += 1.0\n",
        "    if np.isin(np.array([l]), top_values):\n",
        "        top3 += 1.0\n",
        "\n",
        "print(\"top1 acc\", top1/len(y_test))\n",
        "print(\"top3 acc\", top3/len(y_test))"
      ],
      "execution_count": 0,
      "outputs": [
        {
          "output_type": "stream",
          "text": [
            "top1 acc 0.37120677487649967\n",
            "top3 acc 0.6535717086175802\n"
          ],
          "name": "stdout"
        }
      ]
    },
    {
      "cell_type": "code",
      "metadata": {
        "id": "49ue_SC6-3lp",
        "colab_type": "code",
        "outputId": "fc0bfcc9-3625-4ab7-f94c-c24ea090966e",
        "colab": {
          "base_uri": "https://localhost:8080/",
          "height": 590
        }
      },
      "source": [
        "# Plotting the loss and accuracy\n",
        "import matplotlib.pyplot as plt\n",
        "plt.plot(history.history['acc'])\n",
        "plt.xlabel('epoch #')\n",
        "plt.ylabel('Training Accuracy')\n",
        "plt.title('Training Accuracy vs epoch #')\n",
        "plt.figure()\n",
        "plt.plot(history.history['loss'])\n",
        "plt.xlabel('epoch #')\n",
        "plt.ylabel('Sparse Categorical Cross-Entropy')\n",
        "plt.title('Training Loss vs epoch #')"
      ],
      "execution_count": 0,
      "outputs": [
        {
          "output_type": "execute_result",
          "data": {
            "text/plain": [
              "Text(0.5, 1.0, 'Training Loss vs epoch #')"
            ]
          },
          "metadata": {
            "tags": []
          },
          "execution_count": 118
        },
        {
          "output_type": "display_data",
          "data": {
            "image/png": "[encoded data removed]",
            "text/plain": [
              "<Figure size 432x288 with 1 Axes>"
            ]
          },
          "metadata": {
            "tags": []
          }
        },
        {
          "output_type": "display_data",
          "data": {
            "image/png": "[encoded data removed]",
            "text/plain": [
              "<Figure size 432x288 with 1 Axes>"
            ]
          },
          "metadata": {
            "tags": []
          }
        }
      ]
    },
    {
      "cell_type": "code",
      "metadata": {
        "id": "dEZ0rKyWNvEt",
        "colab_type": "code",
        "outputId": "04e24493-613a-41cd-c78a-fdf852623c69",
        "colab": {
          "base_uri": "https://localhost:8080/",
          "height": 119
        }
      },
      "source": [
        "!pip install torch"
      ],
      "execution_count": 0,
      "outputs": [
        {
          "output_type": "stream",
          "text": [
            "Collecting torch\n",
            "\u001b[?25l  Downloading https://files.pythonhosted.org/packages/88/95/90e8c4c31cfc67248bf944ba42029295b77159982f532c5689bcfe4e9108/torch-1.3.1-cp36-cp36m-manylinux1_x86_64.whl (734.6MB)\n",
            "\u001b[K     |████████████████████████████████| 734.6MB 24kB/s \n",
            "\u001b[?25hRequirement already satisfied: numpy in /usr/local/lib/python3.6/dist-packages (from torch) (1.17.4)\n",
            "Installing collected packages: torch\n",
            "Successfully installed torch-1.3.1\n"
          ],
          "name": "stdout"
        }
      ]
    },
    {
      "cell_type": "code",
      "metadata": {
        "id": "Y3MTK-hhWmpO",
        "colab_type": "code",
        "colab": {}
      },
      "source": [
        "##### CNN PART #####\n",
        "from sklearn.model_selection import train_test_split\n",
        "from sklearn.preprocessing import LabelEncoder,StandardScaler\n",
        "from sklearn import preprocessing\n",
        "\n",
        "# Get the features and genres after processing\n",
        "featuresTrial = featuresSingleTop\n",
        "genresTrial = genresSingleTop\n",
        "\n",
        "# Encoding each label so they have values from 1 to 16\n",
        "encoder = LabelEncoder()\n",
        "y = encoder.fit_transform(genresTrial)\n",
        "\n",
        "# Standardizing the data\n",
        "scaler = StandardScaler()\n",
        "X = scaler.fit_transform(np.array(featuresTrial, dtype = float))\n",
        "\n",
        "# 0.6 train 0.2 validation 0.2 test\n",
        "X_train, X_test, y_train, y_test = train_test_split(X, y, test_size=0.2, random_state=1)\n",
        "X_train, X_val, y_train, y_val = train_test_split(X_train, y_train, test_size=0.25, random_state=1)"
      ],
      "execution_count": 0,
      "outputs": []
    },
    {
      "cell_type": "code",
      "metadata": {
        "id": "xo45Hi3wL4Zf",
        "colab_type": "code",
        "colab": {}
      },
      "source": [
        "# Adding dimension for compatibility\n",
        "X_train = X_train[: ,None, :]\n",
        "X_test = X_test[:, None,:]\n",
        "X_val = X_val[:, None,:]"
      ],
      "execution_count": 0,
      "outputs": []
    },
    {
      "cell_type": "code",
      "metadata": {
        "id": "8fcPV4TxPBCD",
        "colab_type": "code",
        "colab": {}
      },
      "source": [
        "# importing necessary libraries\n",
        "import torch\n",
        "import torch.nn as nn\n",
        "import torch.nn.functional as F\n",
        "import torch.optim as optim\n",
        "from torchvision import datasets, transforms\n",
        "from torch.autograd import Variable\n",
        "import matplotlib.pyplot as plt"
      ],
      "execution_count": 0,
      "outputs": []
    },
    {
      "cell_type": "code",
      "metadata": {
        "id": "UhzVNIOSBXS_",
        "colab_type": "code",
        "colab": {}
      },
      "source": [
        "# Converting to tensors\n",
        "X_train = torch.from_numpy(X_train)\n",
        "X_test = torch.from_numpy(X_test)\n",
        "y_train = torch.from_numpy(y_train)\n",
        "y_test = torch.from_numpy(y_test)\n",
        "X_val = torch.from_numpy(X_val)\n",
        "y_val = torch.from_numpy(y_val)"
      ],
      "execution_count": 0,
      "outputs": []
    },
    {
      "cell_type": "code",
      "metadata": {
        "id": "UCDRTZk4-y44",
        "colab_type": "code",
        "colab": {}
      },
      "source": [
        "# Overwriting the Dataset function\n",
        "from torch.utils.data.dataset import Dataset\n",
        "\n",
        "class Dataset(Dataset):\n",
        "  #Characterizes a dataset for PyTorch\n",
        "  def __init__(self, y_train, X_train):\n",
        "        #Initialization'\n",
        "        self.X = X_train\n",
        "        self.Y = y_train\n",
        "\n",
        "  def __len__(self):\n",
        "        #Denotes the total number of samples'\n",
        "        return len(self.X)\n",
        "\n",
        "  def __getitem__(self, index):\n",
        "        #Generates one sample of data'\n",
        "        return (self.X[index],self.Y[index])"
      ],
      "execution_count": 0,
      "outputs": []
    },
    {
      "cell_type": "code",
      "metadata": {
        "id": "ywigEWtuCFWS",
        "colab_type": "code",
        "colab": {}
      },
      "source": [
        "# Create dataset and data loaders\n",
        "train_data = Dataset(y_train, X_train)\n",
        "test_data = Dataset(y_test,X_test)\n",
        "val_data = Dataset(y_val,X_val)\n",
        "\n",
        "batch_size = 64\n",
        "train_loader = torch.utils.data.DataLoader(dataset=train_data,\n",
        "                                           batch_size=batch_size,\n",
        "                                           shuffle=True)\n",
        "\n",
        "test_loader = torch.utils.data.DataLoader(dataset=test_data,\n",
        "                                          batch_size=batch_size,\n",
        "                                          shuffle=False)\n",
        "\n",
        "val_loader = torch.utils.data.DataLoader(dataset=val_data,\n",
        "                                          batch_size=batch_size,\n",
        "                                          shuffle=False)"
      ],
      "execution_count": 0,
      "outputs": []
    },
    {
      "cell_type": "code",
      "metadata": {
        "id": "vyDC43e8J0C6",
        "colab_type": "code",
        "outputId": "743d6cb2-bae0-4f42-9a9e-195dd5f424e4",
        "colab": {
          "base_uri": "https://localhost:8080/",
          "height": 34
        }
      },
      "source": [
        "# Sanity check\n",
        "x,y = train_data[0]\n",
        "print(x.shape,y)"
      ],
      "execution_count": 0,
      "outputs": [
        {
          "output_type": "stream",
          "text": [
            "torch.Size([1, 518]) tensor(10)\n"
          ],
          "name": "stdout"
        }
      ]
    },
    {
      "cell_type": "code",
      "metadata": {
        "id": "CDB6hcvVhQmh",
        "colab_type": "code",
        "colab": {}
      },
      "source": [
        "# CNN Model\n",
        "class Net(nn.Module):\n",
        "\n",
        "    def __init__(self):\n",
        "        super(Net, self).__init__()\n",
        "        # Convolutional layers\n",
        "        self.conv1 = nn.Conv1d(1, 20, kernel_size=5)\n",
        "        self.conv2 = nn.Conv1d(10, 50, kernel_size=5)\n",
        "        self.conv3 = nn.Conv1d(25,100, kernel_size=5)\n",
        "        self.mp = nn.MaxPool2d(2)\n",
        "        # Fully connected layers\n",
        "        self.fc1 = nn.Linear(3050, 256)\n",
        "        self.fc2 = nn.Linear(256,16)\n",
        "\n",
        "    def forward(self, x):\n",
        "        in_size = x.size(0)\n",
        "        x = F.relu(self.mp(self.conv1(x)))\n",
        "        x = F.relu(self.mp(self.conv2(x)))\n",
        "        x = F.relu(self.mp(self.conv3(x)))\n",
        "        x = x.view(in_size, -1)  # flatten the tensor\n",
        "        x = self.fc1(x)\n",
        "        x = self.fc2(x)\n",
        "        return F.log_softmax(x) #numerical stability\n"
      ],
      "execution_count": 0,
      "outputs": []
    },
    {
      "cell_type": "code",
      "metadata": {
        "id": "RAONt7Urw3tZ",
        "colab_type": "code",
        "colab": {}
      },
      "source": [
        "model = Net()\n",
        "# Selecting the optimizer\n",
        "optimizer = optim.Adam(model.parameters(), lr=0.001)"
      ],
      "execution_count": 0,
      "outputs": []
    },
    {
      "cell_type": "code",
      "metadata": {
        "id": "n8qO-59TxL8A",
        "colab_type": "code",
        "colab": {}
      },
      "source": [
        "# Training function\n",
        "def train(epoch):\n",
        "    running_loss = 0.0\n",
        "    model.train()\n",
        "    for batch_idx, (data, target) in enumerate(train_loader):\n",
        "        data, target = Variable(data), Variable(target)\n",
        "        data = data.float()\n",
        "        optimizer.zero_grad()\n",
        "        output = model(data)\n",
        "        loss = F.nll_loss(output, target)\n",
        "        loss.backward()\n",
        "        optimizer.step()\n",
        "        running_loss += loss.item() * data.size(0) \n",
        "        if batch_idx % 200 == 0:\n",
        "            print('Train Epoch: {} [{}/{} ({:.0f}%)]\\tLoss: {:.6f}'.format(\n",
        "                epoch, batch_idx * len(data), len(train_loader.dataset), 100. * batch_idx / len(train_loader), loss.item()))\n",
        "    epoch_loss = running_loss / len(train_loader)\n",
        "    losses.append(epoch_loss)"
      ],
      "execution_count": 0,
      "outputs": []
    },
    {
      "cell_type": "code",
      "metadata": {
        "id": "YPyVUiMCxQ1a",
        "colab_type": "code",
        "colab": {}
      },
      "source": [
        "# Test function\n",
        "def test():\n",
        "    model.eval()\n",
        "    test_loss = 0\n",
        "    correct = 0\n",
        "    correct3 = 0\n",
        "    for data, target in test_loader:\n",
        "        data, target = Variable(data, volatile=True), Variable(target)\n",
        "        data = data.float()\n",
        "        output = model(data)\n",
        "        # sum up batch loss\n",
        "        test_loss += F.nll_loss(output, target, size_average=False).item()\n",
        "        # get the index of the max log-probability\n",
        "        pred = output.data.max(1, keepdim=True)[1]\n",
        "        pred3,indx = output.data.topk(3)\n",
        "        correct += pred.eq(target.data.view_as(pred)).cpu().sum()\n",
        "        for i in range(len(data)):\n",
        "            if (target.data[i].item() in indx[i]):\n",
        "              correct3 += 1\n",
        "        acc3 = correct3 * 100 / len(test_loader.dataset)\n",
        "    print(target.data[0].item())\n",
        "    test_loss /= len(test_loader.dataset)\n",
        "    print('\\nTest set: Average loss: {:.4f}, Accuracy: {}/{} ({:.0f}%)\\n'.format(test_loss, correct, len(test_loader.dataset),\n",
        "        100. * correct / len(test_loader.dataset)))\n",
        "    print('\\nTest set: Top-3 Accuracy: {:.4f}\\n' .format(acc3))"
      ],
      "execution_count": 0,
      "outputs": []
    },
    {
      "cell_type": "code",
      "metadata": {
        "id": "EAHBPxNYLFcs",
        "colab_type": "code",
        "colab": {}
      },
      "source": [
        "# Validation function\n",
        "def validate():\n",
        "    model.eval()\n",
        "    val_loss = 0\n",
        "    correct = 0\n",
        "    for data, target in val_loader:\n",
        "        data, target = Variable(data, volatile=True), Variable(target)\n",
        "        data = data.float()\n",
        "        output = model(data)\n",
        "        # sum up batch loss\n",
        "        val_loss += F.nll_loss(output, target, size_average=False).item()\n",
        "        # get the index of the max log-probability\n",
        "        pred = output.data.max(1, keepdim=True)[1]\n",
        "        correct += pred.eq(target.data.view_as(pred)).cpu().sum()\n",
        "    val_acc.append(100. * correct / len(val_loader.dataset))\n",
        "    val_loss /= len(val_loader.dataset)\n",
        "    val_losses.append(val_loss)\n",
        "    print('\\nValidation set: Average loss: {:.4f}, Accuracy: {}/{} ({:.0f}%)\\n'.format(val_loss, correct, len(val_loader.dataset),\n",
        "        100. * correct / len(val_loader.dataset)))"
      ],
      "execution_count": 0,
      "outputs": []
    },
    {
      "cell_type": "code",
      "metadata": {
        "id": "X86p3gvuxUDu",
        "colab_type": "code",
        "outputId": "78e9d707-41d6-469e-a712-2124ac2c4839",
        "colab": {
          "base_uri": "https://localhost:8080/",
          "height": 1000
        }
      },
      "source": [
        "# Running and fitting the model\n",
        "losses = []\n",
        "val_losses = []\n",
        "val_acc = []\n",
        "for epoch in range(1, 6):\n",
        "    train(epoch)\n",
        "    validate()\n",
        "test()"
      ],
      "execution_count": 0,
      "outputs": [
        {
          "output_type": "stream",
          "text": [
            "/usr/local/lib/python3.6/dist-packages/ipykernel_launcher.py:22: UserWarning: Implicit dimension choice for log_softmax has been deprecated. Change the call to include dim=X as an argument.\n"
          ],
          "name": "stderr"
        },
        {
          "output_type": "stream",
          "text": [
            "Train Epoch: 1 [0/114774 (0%)]\tLoss: 2.772017\n",
            "Train Epoch: 1 [12800/114774 (11%)]\tLoss: 2.126332\n",
            "Train Epoch: 1 [25600/114774 (22%)]\tLoss: 1.840971\n",
            "Train Epoch: 1 [38400/114774 (33%)]\tLoss: 2.127621\n",
            "Train Epoch: 1 [51200/114774 (45%)]\tLoss: 1.985627\n",
            "Train Epoch: 1 [64000/114774 (56%)]\tLoss: 2.098079\n",
            "Train Epoch: 1 [76800/114774 (67%)]\tLoss: 2.123934\n",
            "Train Epoch: 1 [89600/114774 (78%)]\tLoss: 2.101003\n",
            "Train Epoch: 1 [102400/114774 (89%)]\tLoss: 2.007358\n"
          ],
          "name": "stdout"
        },
        {
          "output_type": "stream",
          "text": [
            "/usr/local/lib/python3.6/dist-packages/ipykernel_launcher.py:6: UserWarning: volatile was removed and now has no effect. Use `with torch.no_grad():` instead.\n",
            "  \n",
            "/usr/local/lib/python3.6/dist-packages/torch/nn/_reduction.py:43: UserWarning: size_average and reduce args will be deprecated, please use reduction='sum' instead.\n",
            "  warnings.warn(warning.format(ret))\n"
          ],
          "name": "stderr"
        },
        {
          "output_type": "stream",
          "text": [
            "\n",
            "Validation set: Average loss: 2.1004, Accuracy: 9906/38259 (26%)\n",
            "\n",
            "Train Epoch: 2 [0/114774 (0%)]\tLoss: 1.992044\n",
            "Train Epoch: 2 [12800/114774 (11%)]\tLoss: 1.964974\n",
            "Train Epoch: 2 [25600/114774 (22%)]\tLoss: 2.075906\n",
            "Train Epoch: 2 [38400/114774 (33%)]\tLoss: 2.180037\n",
            "Train Epoch: 2 [51200/114774 (45%)]\tLoss: 2.057306\n",
            "Train Epoch: 2 [64000/114774 (56%)]\tLoss: 2.008744\n",
            "Train Epoch: 2 [76800/114774 (67%)]\tLoss: 2.172167\n",
            "Train Epoch: 2 [89600/114774 (78%)]\tLoss: 2.020135\n",
            "Train Epoch: 2 [102400/114774 (89%)]\tLoss: 1.854748\n",
            "\n",
            "Validation set: Average loss: 2.0936, Accuracy: 9890/38259 (26%)\n",
            "\n",
            "Train Epoch: 3 [0/114774 (0%)]\tLoss: 2.151354\n",
            "Train Epoch: 3 [12800/114774 (11%)]\tLoss: 1.869942\n",
            "Train Epoch: 3 [25600/114774 (22%)]\tLoss: 2.123109\n",
            "Train Epoch: 3 [38400/114774 (33%)]\tLoss: 2.158857\n",
            "Train Epoch: 3 [51200/114774 (45%)]\tLoss: 2.136269\n",
            "Train Epoch: 3 [64000/114774 (56%)]\tLoss: 2.134433\n",
            "Train Epoch: 3 [76800/114774 (67%)]\tLoss: 2.170188\n",
            "Train Epoch: 3 [89600/114774 (78%)]\tLoss: 2.130090\n",
            "Train Epoch: 3 [102400/114774 (89%)]\tLoss: 2.347517\n",
            "\n",
            "Validation set: Average loss: 2.0939, Accuracy: 9964/38259 (26%)\n",
            "\n",
            "Train Epoch: 4 [0/114774 (0%)]\tLoss: 2.033238\n",
            "Train Epoch: 4 [12800/114774 (11%)]\tLoss: 2.066667\n",
            "Train Epoch: 4 [25600/114774 (22%)]\tLoss: 1.992718\n",
            "Train Epoch: 4 [38400/114774 (33%)]\tLoss: 2.113282\n",
            "Train Epoch: 4 [51200/114774 (45%)]\tLoss: 2.215140\n",
            "Train Epoch: 4 [64000/114774 (56%)]\tLoss: 2.128481\n",
            "Train Epoch: 4 [76800/114774 (67%)]\tLoss: 2.101866\n",
            "Train Epoch: 4 [89600/114774 (78%)]\tLoss: 2.047361\n",
            "Train Epoch: 4 [102400/114774 (89%)]\tLoss: 2.143512\n",
            "\n",
            "Validation set: Average loss: 2.0905, Accuracy: 10020/38259 (26%)\n",
            "\n",
            "Train Epoch: 5 [0/114774 (0%)]\tLoss: 2.050610\n",
            "Train Epoch: 5 [12800/114774 (11%)]\tLoss: 1.935313\n",
            "Train Epoch: 5 [25600/114774 (22%)]\tLoss: 2.088975\n",
            "Train Epoch: 5 [38400/114774 (33%)]\tLoss: 1.890401\n",
            "Train Epoch: 5 [51200/114774 (45%)]\tLoss: 2.136339\n",
            "Train Epoch: 5 [64000/114774 (56%)]\tLoss: 2.071386\n",
            "Train Epoch: 5 [76800/114774 (67%)]\tLoss: 2.123709\n",
            "Train Epoch: 5 [89600/114774 (78%)]\tLoss: 2.119447\n",
            "Train Epoch: 5 [102400/114774 (89%)]\tLoss: 2.162268\n",
            "\n",
            "Validation set: Average loss: 2.0974, Accuracy: 10194/38259 (27%)\n",
            "\n"
          ],
          "name": "stdout"
        },
        {
          "output_type": "stream",
          "text": [
            "/usr/local/lib/python3.6/dist-packages/ipykernel_launcher.py:7: UserWarning: volatile was removed and now has no effect. Use `with torch.no_grad():` instead.\n",
            "  import sys\n"
          ],
          "name": "stderr"
        },
        {
          "output_type": "stream",
          "text": [
            "10\n",
            "\n",
            "Test set: Average loss: 2.0939, Accuracy: 10007/38259 (26%)\n",
            "\n",
            "\n",
            "Test set: Top-3 Accuracy: 66.4994\n",
            "\n"
          ],
          "name": "stdout"
        }
      ]
    },
    {
      "cell_type": "code",
      "metadata": {
        "id": "uR-GnDBg1Azk",
        "colab_type": "code",
        "colab": {}
      },
      "source": [
        "# Plotting losses\n",
        "plt.figure()\n",
        "plt.plot(range(1,6),np.array(losses), 'r')\n",
        "plt.xlabel('epoch #')\n",
        "plt.ylabel('Training Loss')\n",
        "plt.title('Training Loss vs epoch #')\n",
        "plt.figure()\n",
        "plt.plot(range(1,6),np.array(val_losses),'g')\n",
        "plt.xlabel('epoch #')\n",
        "plt.ylabel('Validation Loss')\n",
        "plt.title('Validation Loss vs epoch #')"
      ],
      "execution_count": 0,
      "outputs": []
    }
  ]
}